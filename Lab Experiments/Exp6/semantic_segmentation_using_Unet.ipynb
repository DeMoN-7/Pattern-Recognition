{
 "cells": [
  {
   "cell_type": "code",
   "execution_count": 1,
   "metadata": {},
   "outputs": [],
   "source": [
    "import os\n",
    "import numpy as np\n",
    "import tensorflow as tf\n",
    "import matplotlib.pyplot as plt\n",
    "from tensorflow.keras import layers, Model\n",
    "from tensorflow.keras.preprocessing.image import load_img, img_to_array\n",
    "from tensorflow.keras.utils import to_categorical"
   ]
  },
  {
   "cell_type": "code",
   "execution_count": 3,
   "metadata": {},
   "outputs": [],
   "source": [
    "# Load Dataset\n",
    "TRAIN_PATH = \"D:/Mca_upes/Sem-2/Pattern-Recognition/Lab Experiments/Dataset/Training\"\n",
    "TEST_PATH = \"D:/Mca_upes/Sem-2/Pattern-Recognition/Lab Experiments/Dataset/Testing\"\n",
    "IMAGE_SIZE = (256, 256)"
   ]
  },
  {
   "cell_type": "code",
   "execution_count": 4,
   "metadata": {},
   "outputs": [],
   "source": [
    "# Load images and corresponding masks\n",
    "def load_images_and_masks(dataset_path):\n",
    "    images, masks = [], []\n",
    "    if not os.path.exists(dataset_path):\n",
    "        print(f\"Dataset path {dataset_path} does not exist.\")\n",
    "        return np.array(images), np.array(masks)\n",
    "    \n",
    "    classes = sorted(os.listdir(dataset_path))\n",
    "    for cls in classes:\n",
    "        class_dir = os.path.join(dataset_path, cls)\n",
    "        img_dir = os.path.join(class_dir, 'images')\n",
    "        mask_dir = os.path.join(class_dir, 'masks')\n",
    "        \n",
    "        if not os.path.exists(img_dir) or not os.path.exists(mask_dir):\n",
    "            print(f\"Skipping {cls}, missing 'images' or 'masks' directory.\")\n",
    "            continue\n",
    "        \n",
    "        for file in os.listdir(img_dir):\n",
    "            img_path = os.path.join(img_dir, file)\n",
    "            mask_path = os.path.join(mask_dir, file)\n",
    "            \n",
    "            if os.path.exists(mask_path):\n",
    "                img = load_img(img_path, target_size=IMAGE_SIZE)\n",
    "                mask = load_img(mask_path, target_size=IMAGE_SIZE, color_mode='grayscale')\n",
    "                \n",
    "                images.append(img_to_array(img) / 255.0)\n",
    "                masks.append(img_to_array(mask) / 255.0)\n",
    "    \n",
    "    return np.array(images), np.array(masks)"
   ]
  },
  {
   "cell_type": "code",
   "execution_count": null,
   "metadata": {},
   "outputs": [],
   "source": []
  }
 ],
 "metadata": {
  "kernelspec": {
   "display_name": "Python 3",
   "language": "python",
   "name": "python3"
  },
  "language_info": {
   "codemirror_mode": {
    "name": "ipython",
    "version": 3
   },
   "file_extension": ".py",
   "mimetype": "text/x-python",
   "name": "python",
   "nbconvert_exporter": "python",
   "pygments_lexer": "ipython3",
   "version": "3.12.4"
  }
 },
 "nbformat": 4,
 "nbformat_minor": 2
}
