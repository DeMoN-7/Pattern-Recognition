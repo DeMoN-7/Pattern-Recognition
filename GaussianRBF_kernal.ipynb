{
 "cells": [
  {
   "cell_type": "code",
   "execution_count": 2,
   "metadata": {},
   "outputs": [
    {
     "name": "stdout",
     "output_type": "stream",
     "text": [
      "Squared Distance: 27.0\n",
      "Gamma: 0.5\n",
      "RBF Kernel Output: 0.0000013710\n"
     ]
    },
    {
     "data": {
      "text/plain": [
       "np.float64(1.3709590863840845e-06)"
      ]
     },
     "execution_count": 2,
     "metadata": {},
     "output_type": "execute_result"
    }
   ],
   "source": [
    "import numpy as np\n",
    "\n",
    "def rbf_kernel(x, y, gamma):\n",
    "    \"\"\"\n",
    "    Gaussian (RBF) kernel calculate karne ka function.\n",
    "\n",
    "    Parameters:\n",
    "    x (array-like): Pehla vector.\n",
    "    y (array-like): Doosra vector.\n",
    "    gamma (float): Kernel coefficient (1 / 2*sigma^2).\n",
    "\n",
    "    Returns:\n",
    "    float: RBF kernel ka result (0 aur 1 ke beech).\n",
    "    \"\"\"\n",
    "    x = np.asarray(x)\n",
    "    y = np.asarray(y)\n",
    "    squared_distance = np.linalg.norm(x - y) ** 2  # ||x - y||^2\n",
    "    result = np.exp(-gamma * squared_distance)  # exp(-gamma * ||x - y||^2)\n",
    "    \n",
    "    print(f\"Squared Distance: {squared_distance}\")\n",
    "    print(f\"Gamma: {gamma}\")\n",
    "    print(f\"RBF Kernel Output: {result:.10f}\")  # 10 decimal places tak show karna\n",
    "    \n",
    "    return result\n",
    "\n",
    "# Example usage:\n",
    "x = [1, 2, 3]\n",
    "y = [4, 5, 6]\n",
    "gamma = 0.5\n",
    "\n",
    "rbf_kernel(x, y, gamma)\n"
   ]
  },
  {
   "cell_type": "markdown",
   "metadata": {},
   "source": [
    "<h1>For given dataset X"
   ]
  },
  {
   "cell_type": "code",
   "execution_count": 1,
   "metadata": {},
   "outputs": [
    {
     "name": "stdout",
     "output_type": "stream",
     "text": [
      "RBF Kernel Matrix:\n",
      "['1.000000', '0.001503', '0.000000']\n",
      "['0.001503', '1.000000', '0.018316']\n",
      "['0.000000', '0.018316', '1.000000']\n"
     ]
    }
   ],
   "source": [
    "import numpy as np\n",
    "\n",
    "def rbf_kernel_matrix(X, gamma):\n",
    "    \"\"\"\n",
    "    RBF kernel matrix compute karta hai for dataset X.\n",
    "\n",
    "    Parameters:\n",
    "    X (numpy array): Dataset (shape: m x n) where m = samples, n = features.\n",
    "    gamma (float): Kernel coefficient (1 / 2*sigma^2).\n",
    "\n",
    "    Returns:\n",
    "    numpy array: RBF kernel matrix (m x m).\n",
    "    \"\"\"\n",
    "    m = X.shape[0]  # Number of samples\n",
    "    K = np.zeros((m, m))  # Initialize kernel matrix\n",
    "\n",
    "    for i in range(m):\n",
    "        for j in range(m):\n",
    "            squared_distance = np.linalg.norm(X[i] - X[j]) ** 2  # ||xi - xj||^2\n",
    "            K[i, j] = np.exp(-gamma * squared_distance)  # RBF formula\n",
    "\n",
    "    return K\n",
    "\n",
    "# Example dataset (3 samples, 2 features each)\n",
    "X = np.array([[1, 1], [3, 4], [5, 6]])\n",
    "gamma = 0.5\n",
    "\n",
    "# Compute RBF Kernel Matrix\n",
    "K_matrix = rbf_kernel_matrix(X, gamma)\n",
    "\n",
    "# Print the kernel matrix in a readable format\n",
    "print(\"RBF Kernel Matrix:\")\n",
    "for row in K_matrix:\n",
    "    print([\"{:.6f}\".format(val) for val in row])  # 6 decimal places\n"
   ]
  },
  {
   "cell_type": "code",
   "execution_count": null,
   "metadata": {},
   "outputs": [],
   "source": []
  }
 ],
 "metadata": {
  "kernelspec": {
   "display_name": "Python 3",
   "language": "python",
   "name": "python3"
  },
  "language_info": {
   "codemirror_mode": {
    "name": "ipython",
    "version": 3
   },
   "file_extension": ".py",
   "mimetype": "text/x-python",
   "name": "python",
   "nbconvert_exporter": "python",
   "pygments_lexer": "ipython3",
   "version": "3.12.4"
  }
 },
 "nbformat": 4,
 "nbformat_minor": 2
}
